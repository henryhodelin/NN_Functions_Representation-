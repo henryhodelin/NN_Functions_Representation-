{
 "cells": [
  {
   "cell_type": "code",
   "execution_count": 1,
   "id": "1d5b4547",
   "metadata": {},
   "outputs": [],
   "source": [
    "import os"
   ]
  },
  {
   "cell_type": "code",
   "execution_count": null,
   "id": "e7faa0e2",
   "metadata": {},
   "outputs": [
    {
     "name": "stdout",
     "output_type": "stream",
     "text": [
      "\n",
      "  You can now view your Streamlit app in your browser.\n",
      "\n",
      "  Local URL: http://localhost:8503\n",
      "  Network URL: http://192.168.15.6:8503\n",
      "\n"
     ]
    },
    {
     "name": "stderr",
     "output_type": "stream",
     "text": [
      "2022-04-18 18:22:45.642 NumExpr defaulting to 8 threads.\n",
      "2022-04-18 18:22:49.306116: W tensorflow/stream_executor/platform/default/dso_loader.cc:64] Could not load dynamic library 'libcudart.so.11.0'; dlerror: libcudart.so.11.0: cannot open shared object file: No such file or directory\n",
      "2022-04-18 18:22:49.306147: I tensorflow/stream_executor/cuda/cudart_stub.cc:29] Ignore above cudart dlerror if you do not have a GPU set up on your machine.\n",
      "2022-04-18 18:23:09.728 Traceback (most recent call last):\n",
      "  File \"/home/hodelin/anaconda3/lib/python3.8/site-packages/streamlit/script_runner.py\", line 354, in _run_script\n",
      "    exec(code, module.__dict__)\n",
      "  File \"/home/hodelin/Documents/3-Trabajo/2-Tareas_de_Investigacion/Calculos_Interactivos/NN_Functions_Representation-/main.py\", line 1, in <module>\n",
      "    from pages import pages\n",
      "  File \"/home/hodelin/Documents/3-Trabajo/2-Tareas_de_Investigacion/Calculos_Interactivos/NN_Functions_Representation-/pages/__init__.py\", line 2, in <module>\n",
      "    from .input_data import input_page\n",
      "ModuleNotFoundError: No module named 'pages.input_data'\n",
      "\n",
      "2022-04-18 18:35:20.247172: W tensorflow/stream_executor/platform/default/dso_loader.cc:64] Could not load dynamic library 'libcuda.so.1'; dlerror: libcuda.so.1: cannot open shared object file: No such file or directory\n",
      "2022-04-18 18:35:20.247216: W tensorflow/stream_executor/cuda/cuda_driver.cc:269] failed call to cuInit: UNKNOWN ERROR (303)\n",
      "2022-04-18 18:35:20.247243: I tensorflow/stream_executor/cuda/cuda_diagnostics.cc:156] kernel driver does not appear to be running on this host (hodelin-desktop): /proc/driver/nvidia/version does not exist\n",
      "2022-04-18 19:27:37.176 Traceback (most recent call last):\n",
      "  File \"/home/hodelin/anaconda3/lib/python3.8/site-packages/streamlit/script_runner.py\", line 354, in _run_script\n",
      "    exec(code, module.__dict__)\n",
      "  File \"/home/hodelin/Documents/3-Trabajo/2-Tareas_de_Investigacion/Calculos_Interactivos/NN_Functions_Representation-/main.py\", line 40, in <module>\n",
      "    app.run()\n",
      "  File \"/home/hodelin/anaconda3/lib/python3.8/site-packages/streamlit_multipage/multipage.py\", line 288, in run\n",
      "    self._run()\n",
      "  File \"/home/hodelin/anaconda3/lib/python3.8/site-packages/streamlit_multipage/multipage.py\", line 272, in _run\n",
      "    app.func(self.st, **data)\n",
      "  File \"/home/hodelin/Documents/3-Trabajo/2-Tareas_de_Investigacion/Calculos_Interactivos/NN_Functions_Representation-/pages/function_rep_1d.py\", line 177, in rep_1D_function_page\n",
      "    my_bar.progress(ix + 1)\n",
      "  File \"/home/hodelin/anaconda3/lib/python3.8/site-packages/streamlit/elements/progress.py\", line 61, in progress\n",
      "    raise StreamlitAPIException(\n",
      "streamlit.errors.StreamlitAPIException: Progress Value has invalid value [0, 100]: 101\n",
      "\n",
      "2022-04-18 19:30:33.770 Traceback (most recent call last):\n",
      "  File \"/home/hodelin/anaconda3/lib/python3.8/site-packages/streamlit/script_runner.py\", line 354, in _run_script\n",
      "    exec(code, module.__dict__)\n",
      "  File \"/home/hodelin/Documents/3-Trabajo/2-Tareas_de_Investigacion/Calculos_Interactivos/NN_Functions_Representation-/main.py\", line 40, in <module>\n",
      "    app.run()\n",
      "  File \"/home/hodelin/anaconda3/lib/python3.8/site-packages/streamlit_multipage/multipage.py\", line 288, in run\n",
      "    self._run()\n",
      "  File \"/home/hodelin/anaconda3/lib/python3.8/site-packages/streamlit_multipage/multipage.py\", line 272, in _run\n",
      "    app.func(self.st, **data)\n",
      "  File \"/home/hodelin/Documents/3-Trabajo/2-Tareas_de_Investigacion/Calculos_Interactivos/NN_Functions_Representation-/pages/function_rep_1d.py\", line 177, in rep_1D_function_page\n",
      "    my_bar.progress((ix/epochs)*100)\n",
      "  File \"/home/hodelin/anaconda3/lib/python3.8/site-packages/streamlit/elements/progress.py\", line 53, in progress\n",
      "    raise StreamlitAPIException(\n",
      "streamlit.errors.StreamlitAPIException: Progress Value has invalid value [0.0, 1.0]: 10.000000\n",
      "\n"
     ]
    }
   ],
   "source": [
    "os.system('streamlit run main.py')"
   ]
  },
  {
   "cell_type": "code",
   "execution_count": null,
   "id": "f73b4084",
   "metadata": {},
   "outputs": [],
   "source": []
  }
 ],
 "metadata": {
  "kernelspec": {
   "display_name": "Python 3 (ipykernel)",
   "language": "python",
   "name": "python3"
  },
  "language_info": {
   "codemirror_mode": {
    "name": "ipython",
    "version": 3
   },
   "file_extension": ".py",
   "mimetype": "text/x-python",
   "name": "python",
   "nbconvert_exporter": "python",
   "pygments_lexer": "ipython3",
   "version": "3.8.8"
  }
 },
 "nbformat": 4,
 "nbformat_minor": 5
}
